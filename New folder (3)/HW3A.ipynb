{
 "cells": [
  {
   "cell_type": "markdown",
   "id": "971de089",
   "metadata": {},
   "source": [
    "# Assignment 3: Functions, Lambda, Exception Handling\n",
    "\n",
    "**Course:** AbzumsAI Programming 1404\n",
    "\n",
    "**Instructor:** Mr. Ali Mohammadzadeh Shabestari\n",
    "\n",
    "**Date Assigned:** June 28, 2025\n",
    "\n",
    "**Deadline:** July 2, 2025"
   ]
  },
  {
   "cell_type": "markdown",
   "id": "08247c0f",
   "metadata": {},
   "source": [
    "## Learning Objectives\n",
    "\n",
    "By the end of this notebook, you will:\n",
    "\n",
    "- Define and call functions with parameters and return values in Python.\n",
    "- Use default parameters and understand how functions improve code reusability.\n",
    "- Create and apply anonymous functions using lambda syntax.\n",
    "- Use lambda with built-in functions like `map()` and `filter()` to process data concisely.\n",
    "- Handle runtime errors gracefully using `try` and `except` blocks.\n",
    "- Write robust programs that validate user input and prevent crashes due to exceptions.\n",
    "\n",
    "---"
   ]
  },
  {
   "cell_type": "markdown",
   "id": "20adfbee",
   "metadata": {},
   "source": [
    "# Cell 0: Student Information\n",
    "\n",
    "### Please enter your details for grading purposes:\n",
    "\n",
    "Your Name: amirhossein noroi gohari\n",
    "\n",
    "Your Email:amirhoss2004@gmIL.COM\n",
    "\n",
    "Your GtiHub Link:"
   ]
  },
  {
   "cell_type": "markdown",
   "id": "f52707df",
   "metadata": {},
   "source": [
    "## Cell 1: Basic Function Definition"
   ]
  },
  {
   "cell_type": "markdown",
   "id": "0e9b1c2c",
   "metadata": {},
   "source": [
    "Write a function called `greet` that\n",
    "- Takes a name as input, and prints \"Hello, `name`!\"\n"
   ]
  },
  {
   "cell_type": "code",
   "execution_count": 9,
   "id": "e32c723b",
   "metadata": {},
   "outputs": [
    {
     "name": "stdout",
     "output_type": "stream",
     "text": [
      "hello , amir!\n"
     ]
    }
   ],
   "source": [
    "name=input(\"inter your name\")\n",
    "def greet(name):\n",
    "    print(f\"hello , {name}!\")\n",
    "\n",
    "greet(name)"
   ]
  },
  {
   "cell_type": "markdown",
   "id": "343fbe55",
   "metadata": {},
   "source": [
    "## Cell 2: Function with Return Value"
   ]
  },
  {
   "cell_type": "markdown",
   "id": "ec478dc6",
   "metadata": {},
   "source": [
    "Write a function `analyze_numbers` that takes two numbers as input. The function should:\n",
    "- Print both numbers\n",
    "- Calculate their sum\n",
    "- Print whether the sum is even or odd\n",
    "- Return the sum\n",
    "\n"
   ]
  },
  {
   "cell_type": "code",
   "execution_count": 7,
   "id": "8061cdba",
   "metadata": {},
   "outputs": [
    {
     "name": "stdout",
     "output_type": "stream",
     "text": [
      "234 24\n",
      "sum: 258\n",
      "even\n"
     ]
    }
   ],
   "source": [
    "a =int(input(\"type a numbers \"))\n",
    "b =int(input(\"type another numbers \"))\n",
    "sum=a+b\n",
    "def analyze_numbers(a , b):\n",
    "    print(a,b)\n",
    "    print (\"sum:\" , sum)\n",
    "    if  sum % 2==0:\n",
    "        print(\"the sum iseven\")\n",
    "    else:\n",
    "        print(\"the sum is odd\")\n",
    "\n",
    "    return\n",
    "\n",
    "analyze_numbers(a , b)"
   ]
  },
  {
   "cell_type": "markdown",
   "id": "0711bafc",
   "metadata": {},
   "source": [
    "## Cell 3: Fucntion with Multiple Return Value"
   ]
  },
  {
   "cell_type": "markdown",
   "id": "c1532d72",
   "metadata": {},
   "source": [
    "Write a function called find_a_b that takes two numbers as input:\n",
    "- The sum of two unknown numbers (x + y)\n",
    "- The difference of those same two numbers (x - y)\n",
    "\n",
    "The function should:\n",
    "- Calculate and return the original numbers x and y in order (x, y)\n",
    "- Assume that x > y"
   ]
  },
  {
   "cell_type": "code",
   "execution_count": 20,
   "id": "2fc06915",
   "metadata": {},
   "outputs": [
    {
     "name": "stdout",
     "output_type": "stream",
     "text": [
      "10.0 6.0\n"
     ]
    }
   ],
   "source": [
    "x = int(input(\"inter x\")) \n",
    "y = int(input(\"inter y\")) \n",
    "sum = x+y\n",
    "dif = x-y\n",
    "def my_func(sum , diff):\n",
    "    x1 = (sum + dif)/2\n",
    "    y2 = (sum - dif)/2\n",
    "    return print(x1 ,y2)\n",
    "\n",
    "my_func(sum , dif)\n"
   ]
  },
  {
   "cell_type": "markdown",
   "id": "884813ad",
   "metadata": {},
   "source": [
    "## Cell 4: Function with Default Argument"
   ]
  },
  {
   "cell_type": "markdown",
   "id": "a37e7992",
   "metadata": {},
   "source": [
    "Read the function below carefully.\n",
    "- In your own words, explain what this function does step by step.\n",
    "- Write your explanation in the following cell 👇"
   ]
  },
  {
   "cell_type": "markdown",
   "id": "f09b013a",
   "metadata": {},
   "source": [
    "🌱 Your Answer: there is a function that gets three distinct inputs < price of the production , the discount which will effect the final price ,and at the end the tax amount have to add to the price\n",
    "\n",
    " at first the function prints : Original price: $100\n",
    "so the discount amount will be calculated through (discount/100) in price.\n",
    "\n",
    " \n",
    "and when the result is substracted from the price ,it will give us price_after_discount \n",
    "and after that the function will print   Discount (10%): -$10.0\n",
    "                                         Price after discount: $90.0\n",
    "the tax and the discount have been cslculsted before and are constant in this function.\n",
    "the tax amount is the price_after_discount in the tax /100\n",
    "final price is the tax /100 which is going to add to price_after_discount.\n",
    "then it print Tax (5%): +$4.5\n",
    "Final price: $94.5\n",
    "\n",
    "at the end we round the final price with tow numbers after point."
   ]
  },
  {
   "cell_type": "code",
   "execution_count": 4,
   "id": "7c224bb3",
   "metadata": {},
   "outputs": [
    {
     "name": "stdout",
     "output_type": "stream",
     "text": [
      "Original price: $100\n",
      "Discount (10%): -$10.0\n",
      "Price after discount: $90.0\n",
      "Tax (5%): +$4.5\n",
      "Final price: $94.5\n"
     ]
    },
    {
     "data": {
      "text/plain": [
       "94.5"
      ]
     },
     "execution_count": 4,
     "metadata": {},
     "output_type": "execute_result"
    }
   ],
   "source": [
    "def calculate_discounted_price(price, discount=10, tax=5):\n",
    "    print(f\"Original price: ${price}\")\n",
    "    \n",
    "    discount_amount = price * (discount / 100)\n",
    "    price_after_discount = price - discount_amount\n",
    "    print(f\"Discount ({discount}%): -${discount_amount}\")\n",
    "    print(f\"Price after discount: ${price_after_discount}\")\n",
    "    \n",
    "    tax_amount = price_after_discount * (tax / 100)\n",
    "    final_price = price_after_discount + tax_amount\n",
    "    print(f\"Tax ({tax}%): +${tax_amount}\")\n",
    "    print(f\"Final price: ${final_price}\")\n",
    "    \n",
    "    return round(final_price, 2)\n",
    "\n",
    "# Example usage:\n",
    "calculate_discounted_price(100)"
   ]
  },
  {
   "cell_type": "markdown",
   "id": "f52389fd",
   "metadata": {},
   "source": [
    "## Cell 5: Lambda with `map()`"
   ]
  },
  {
   "cell_type": "markdown",
   "id": "9e6be806",
   "metadata": {},
   "source": [
    "You are given a list of full names in the format \"First Last\".\n",
    "- Use `map()` and a `lambda` function to extract only the first names from the list."
   ]
  },
  {
   "cell_type": "code",
   "execution_count": 21,
   "id": "ee4c20c3",
   "metadata": {},
   "outputs": [
    {
     "name": "stdout",
     "output_type": "stream",
     "text": [
      "['Alexander', 'Elizabeth', 'Edward', 'William']\n"
     ]
    }
   ],
   "source": [
    "full_names = [\"Alexander Fleming\", \"Elizabeth Blackwell\", \"Edward Jenner\", \"William Osler\"]\n",
    "fisrt_name=list(map(lambda x : x.split()[0],full_names))\n",
    "print(fisrt_name)"
   ]
  },
  {
   "cell_type": "markdown",
   "id": "11355cd8",
   "metadata": {},
   "source": [
    "## Cell 6: Lambda with `filter()`"
   ]
  },
  {
   "cell_type": "markdown",
   "id": "3a9dd04a",
   "metadata": {},
   "source": [
    "You are given a list of user dictionaries. Each user has a name, age, and an \"active\" status.\n",
    "Use `filter()` and a `lambda` function to select users who:\n",
    "- Are at least 18 years old\n",
    "- Have 'active' set to True\n",
    "\n",
    "💡 Make use of `and` operator"
   ]
  },
  {
   "cell_type": "code",
   "execution_count": 7,
   "id": "4dd5903d",
   "metadata": {},
   "outputs": [
    {
     "name": "stdout",
     "output_type": "stream",
     "text": [
      "[{'name': 'Reza', 'age': 19, 'active': True}, {'name': 'Lina', 'age': 25, 'active': True}]\n"
     ]
    }
   ],
   "source": [
    "users = [\n",
    "    {\"name\": \"Ali\", \"age\": 17, \"active\": True},\n",
    "    {\"name\": \"Sara\", \"age\": 22, \"active\": False},\n",
    "    {\"name\": \"Reza\", \"age\": 19, \"active\": True},\n",
    "    {\"name\": \"Lina\", \"age\": 25, \"active\": True},\n",
    "    {\"name\": \"Mona\", \"age\": 16, \"active\": True},\n",
    "    {\"name\": \"Javad\", \"age\": 20, \"active\": False},\n",
    "]\n",
    "listed=(list(filter(lambda users: users[\"age\"]>=18 and users['active'] is True , users )))\n",
    "print(listed)"
   ]
  },
  {
   "cell_type": "markdown",
   "id": "3c88871f",
   "metadata": {},
   "source": [
    "## Cell 7: Exception Handling"
   ]
  },
  {
   "cell_type": "markdown",
   "id": "70f56881",
   "metadata": {},
   "source": [
    "Carefully read the following code.\n",
    "- Do NOT run or modify it yet.\n",
    "- In the next cell, explain in your own words what this program does, step by step. 👇"
   ]
  },
  {
   "cell_type": "markdown",
   "id": "4e9e5779",
   "metadata": {},
   "source": [
    "🌱 Your Answer:در ابتدا از حلقه وایل استفاده شده تا زمانی که حلقه کار کند اداکه پیدا میکند\n",
    "در قسمت ترای اینپوت ها یا ورودی ها قرار گرفته اند که ورودی را به اعداد اعشاری تبدیل کرده و نومریتور را بر دنومنیتور تقسیم میکند ، حال هایی که خطا داده میشود یه حالت وقتی هست که ورودی ما ربطی به عدد نداشته باشد یا اینکه عدد ورودی برای دنومینیتور صفر وراد شود که به ترتیب باعث خطای ولیو و زیرو دیویزن ارور میشود پس این دوحالت را در خالت اکسپت قرار داده و در صورت ایجاد خطا پرینت میکند به ترتیب:\n",
    "       \n",
    "        print(\"⚠️ Please enter valid numeric values.\")\n",
    "\n",
    "        print(\"⚠️ Denominator cannot be zero. Try again.\")\n",
    "در حالتی که با خطا رو برو نشود حالت الس را داریم که با پرینت جواب با گرد کردن تا سه رقم اعشار کار را \n",
    "به اتمام رسانده و در انتها فاینالی که حتما باید پرینت شود\n",
    "\n",
    "       print(\"📘 Thank you for using the divider.\\n\")\n",
    "       \n",
    "       حالت کانتینیو برای زمانی است که خطا به وجود امده باشد و نیاز به اجرای دوباره حلقه داریم\n",
    "       حالت برک یا شکست هم در حالت بدون خطا باعث اتمام حلقه خواهد شد"
   ]
  },
  {
   "cell_type": "code",
   "execution_count": null,
   "id": "42bbaecd",
   "metadata": {},
   "outputs": [],
   "source": [
    "while True:\n",
    "    try:\n",
    "        numerator = float(input(\"Enter the numerator: \"))\n",
    "        denominator = float(input(\"Enter the denominator: \"))\n",
    "\n",
    "        result = numerator / denominator\n",
    "    except ValueError:\n",
    "        print(\"ز\")\n",
    "        continue\n",
    "    except ZeroDivisionError:\n",
    "        print(\"⚠️ Denominator cannot be zero. Try again.\")\n",
    "        continue\n",
    "    else:\n",
    "        print(f\"✅ Result: {round(result, 3)}\")\n",
    "        break\n",
    "    finally:\n",
    "        print(\"📘 Thank you for using the divider.\\n\")"
   ]
  }
 ],
 "metadata": {
  "kernelspec": {
   "display_name": "Python 3.13.5 64-bit",
   "language": "python",
   "name": "python3"
  },
  "language_info": {
   "codemirror_mode": {
    "name": "ipython",
    "version": 3
   },
   "file_extension": ".py",
   "mimetype": "text/x-python",
   "name": "python",
   "nbconvert_exporter": "python",
   "pygments_lexer": "ipython3",
   "version": "3.13.5"
  },
  "vscode": {
   "interpreter": {
    "hash": "76961872ffb42086e68fd3f884ca15c742343b460fd1cc6056f93735efb4f613"
   }
  }
 },
 "nbformat": 4,
 "nbformat_minor": 5
}
