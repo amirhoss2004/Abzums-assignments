{
 "cells": [
  {
   "cell_type": "markdown",
   "id": "d9bcc2b8",
   "metadata": {},
   "source": [
    "# Assignment 2: Control Flow, Loop\n",
    "\n",
    "**Course:** AbzumsAI Programming 1404\n",
    "\n",
    "**Instructor:** Mr. Ali Mohammadzadeh Shabestari\n",
    "\n",
    "**Date Assigned:** June 15, 2025\n",
    "\n",
    "**Deadline:** June 18, 2025"
   ]
  },
  {
   "cell_type": "markdown",
   "id": "6e9a9d57",
   "metadata": {},
   "source": [
    "## Learning Objectives\n",
    "\n",
    "By the end of this notebook, you will:\n",
    "\n",
    "- Understand how to control program flow using if, elif, and else statements.\n",
    "\n",
    "- Learn how to write nested if statements and apply logical operators (and, or, not).\n",
    "\n",
    "- Use for loops to iterate over ranges, lists, strings, and other iterable objects.\n",
    "\n",
    "- Use while loops to execute code repeatedly while a condition is true.\n",
    "\n",
    "- Apply loop control statements (break and continue) to modify loop behavior.\n",
    "\n",
    "---"
   ]
  },
  {
   "cell_type": "markdown",
   "id": "bc082db1",
   "metadata": {},
   "source": [
    "# Cell 0: Student Information\n",
    "\n",
    "### Please enter your details for grading purposes:\n",
    "\n",
    "Your Name: \n",
    "\n",
    "Your Email:\n",
    "\n",
    "Your Gthub Link:"
   ]
  },
  {
   "cell_type": "markdown",
   "id": "b60f1c78",
   "metadata": {},
   "source": [
    "## Cell 1: `if`, `elif`, `else` Control Flow"
   ]
  },
  {
   "cell_type": "markdown",
   "id": "09b5c94a",
   "metadata": {},
   "source": [
    "Write a program that reads a temperature (integer input).\n",
    "\n",
    "- If temperature > 30, print \"It's a hot day.\"\n",
    "\n",
    "- If temperature > 20, print \"It's a nice day.\"\n",
    "\n",
    "- If temperature > 10, print \"It's a bit chilly.\"\n",
    "\n",
    "- Otherwise, print \"It's cold outside.\""
   ]
  },
  {
   "cell_type": "code",
   "execution_count": 5,
   "id": "23744f8c",
   "metadata": {},
   "outputs": [
    {
     "name": "stdout",
     "output_type": "stream",
     "text": [
      "its a bitt chilly\n"
     ]
    }
   ],
   "source": [
    "temp = int(input(\"please inter the temperature:\"))\n",
    "if temp >= 30 :\n",
    "    print(\"its a hot day \")\n",
    "elif temp >= 20 :\n",
    "    print(\"its a nice day\")\n",
    "elif temp >= 10 :\n",
    "    print(\"its a bitt chilly\")\n",
    "else :\n",
    "    print(\"it cold outside\")"
   ]
  },
  {
   "cell_type": "markdown",
   "id": "60e5a456",
   "metadata": {},
   "source": [
    "## Cell 2: Nested `if` statements"
   ]
  },
  {
   "cell_type": "markdown",
   "id": "86b9f19e",
   "metadata": {},
   "source": [
    "Check concert eligibility.\n",
    "\n",
    "- Read user's age (integer input) and whether they have a ticket (boolean input: True/False).\n",
    "\n",
    "- If the user is 18 or older AND has a ticket, print \"You can enter the concert.\"\n",
    "\n",
    "- If the user is 18 or older BUT doesn't have a ticket, print \"You need a ticket to enter.\"\n",
    "\n",
    "- Otherwise, print \"You are too young for the concert.\"\n"
   ]
  },
  {
   "cell_type": "code",
   "execution_count": 18,
   "id": "34be97ed",
   "metadata": {},
   "outputs": [
    {
     "name": "stdout",
     "output_type": "stream",
     "text": [
      "you need a ticket\n"
     ]
    }
   ],
   "source": [
    "age=int(input(\"your age\"))\n",
    "ticket=input(\"do you have ticket? true or false\")\n",
    "while age >18 :\n",
    "    if ticket == \"true\" :\n",
    "        print(\"you can inter the concert\") \n",
    "        break\n",
    "    else :\n",
    "        print(\"you need a ticket\")\n",
    "        break\n",
    "while age < 18 :\n",
    "    print(\"you are too young\")\n",
    "    break"
   ]
  },
  {
   "cell_type": "markdown",
   "id": "2df49f77",
   "metadata": {},
   "source": [
    "## Cell 3: Iterating over collections"
   ]
  },
  {
   "cell_type": "markdown",
   "id": "fe3ac152",
   "metadata": {},
   "source": [
    "- Create a list of 5 fruits.\n",
    "\n",
    "- Use a for loop to print \"I like [fruit]\" for each fruit in the list.\n",
    "\n",
    "- Then iterate over the string \"Python\" and print each letter on a separate line.\n"
   ]
  },
  {
   "cell_type": "code",
   "execution_count": 89,
   "id": "d3c5e8bb",
   "metadata": {},
   "outputs": [
    {
     "name": "stdout",
     "output_type": "stream",
     "text": [
      "i love apple\n",
      "i love banana\n",
      "i love orange\n",
      "i love peach \n",
      "i love tomato\n",
      "p\n",
      "h\n",
      "y\n",
      "t\n",
      "o\n",
      "n\n"
     ]
    }
   ],
   "source": [
    "fruit= [\"apple\" , \"banana\" , \"orange\" , \"peach \", \"tomato\"]\n",
    "for love in fruit :\n",
    "    print(\"i like\", love)\n",
    "\n",
    "for letter in \"phyton\":\n",
    "    print(letter)"
   ]
  },
  {
   "cell_type": "markdown",
   "id": "7a9ee851",
   "metadata": {},
   "source": [
    "## Cell 4: `for` loop with `range()`"
   ]
  },
  {
   "cell_type": "markdown",
   "id": "bf0220d9",
   "metadata": {},
   "source": [
    "Use a for loop to:\n",
    "\n",
    "a) Print numbers from 1 to 10.\n",
    "\n",
    "b) Calculate and print the sum of numbers from 1 to 10.\n"
   ]
  },
  {
   "cell_type": "code",
   "execution_count": 103,
   "id": "f4255b85",
   "metadata": {},
   "outputs": [
    {
     "name": "stdout",
     "output_type": "stream",
     "text": [
      "1\n",
      "2\n",
      "3\n",
      "4\n",
      "5\n",
      "6\n",
      "7\n",
      "8\n",
      "9\n",
      "10\n",
      "sum 55\n"
     ]
    }
   ],
   "source": [
    "zero =0\n",
    "number = range(1,11)\n",
    "for i in number:\n",
    "    print(i) \n",
    "    zero += i      \n",
    "print (\"sum\" , zero )"
   ]
  },
  {
   "cell_type": "markdown",
   "id": "fe210e58",
   "metadata": {},
   "source": [
    "## Cell 5: `while` loops and loop control (`break`, `continue`)"
   ]
  },
  {
   "cell_type": "markdown",
   "id": "e2ff6b31",
   "metadata": {},
   "source": [
    "Use a `while` loop to count from 1 upwards.\n",
    "\n",
    "- If count reaches 3, skip printing (use continue).\n",
    "\n",
    "- If count reaches 7, stop the loop (use break).\n",
    "\n",
    "- Otherwise, print the current count.\n"
   ]
  },
  {
   "cell_type": "code",
   "execution_count": 108,
   "id": "6d784b0d",
   "metadata": {},
   "outputs": [
    {
     "name": "stdout",
     "output_type": "stream",
     "text": [
      "1\n",
      "2\n",
      "4\n",
      "5\n",
      "6\n"
     ]
    }
   ],
   "source": [
    "count=1\n",
    "while True :\n",
    "    if count ==3 :\n",
    "        count +=1\n",
    "        continue\n",
    "    if count == 7:\n",
    "        break\n",
    "    print(count)\n",
    "    count +=1\n",
    "\n",
    "    \n",
    "\n",
    "\n",
    "        \n",
    "    \n",
    "    \n",
    "    \n"
   ]
  }
 ],
 "metadata": {
  "kernelspec": {
   "display_name": "Python 3.13.5 64-bit",
   "language": "python",
   "name": "python3"
  },
  "language_info": {
   "codemirror_mode": {
    "name": "ipython",
    "version": 3
   },
   "file_extension": ".py",
   "mimetype": "text/x-python",
   "name": "python",
   "nbconvert_exporter": "python",
   "pygments_lexer": "ipython3",
   "version": "3.13.5"
  },
  "vscode": {
   "interpreter": {
    "hash": "76961872ffb42086e68fd3f884ca15c742343b460fd1cc6056f93735efb4f613"
   }
  }
 },
 "nbformat": 4,
 "nbformat_minor": 5
}
